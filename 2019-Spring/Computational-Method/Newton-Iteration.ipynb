{
 "cells": [
  {
   "cell_type": "code",
   "execution_count": 2,
   "metadata": {},
   "outputs": [],
   "source": [
    "from sympy import *\n",
    "import math\n",
    "from decimal import *\n"
   ]
  },
  {
   "cell_type": "code",
   "execution_count": null,
   "metadata": {},
   "outputs": [],
   "source": [
    "x=Symbol('x')\n",
    "answer=solve(x**2-x*2+1,x)\n",
    "print(answer)"
   ]
  },
  {
   "cell_type": "code",
   "execution_count": 42,
   "metadata": {},
   "outputs": [],
   "source": [
    "def f(x):\n",
    "    return 64*x**6 - 480*x**4 + 720*x**2 - 120\n",
    "def df(x):\n",
    "    return 384*x**5 - 1920*x**3 + 1440*x\n",
    "def dx(f,x):\n",
    "    return abs(0-f(x))\n",
    "def newtows(f,df,x0,e):\n",
    "    delta=dx(f,x0)\n",
    "    while delta>e:\n",
    "        x0=x0-f(x0)/df(x0)\n",
    "        delta=dx(f,x0)\n",
    "    print('ROOT:%.10f'%x0)\n",
    "    print('f(x):%.10f'%f(x0))\n",
    "    print('Delta:%.10f'%delta)\n",
    "\n",
    "\n"
   ]
  },
  {
   "cell_type": "code",
   "execution_count": 46,
   "metadata": {},
   "outputs": [
    {
     "name": "stdout",
     "output_type": "stream",
     "text": [
      "ROOT:0.4360774119\n",
      "f(x):0.0000000000\n",
      "Delta:0.0000000000\n"
     ]
    }
   ],
   "source": [
    "\n",
    "newtows(f,df,0.4,1e-6)\n"
   ]
  },
  {
   "cell_type": "code",
   "execution_count": 4,
   "metadata": {},
   "outputs": [
    {
     "data": {
      "text/plain": [
       "-2/x**3"
      ]
     },
     "execution_count": 4,
     "metadata": {},
     "output_type": "execute_result"
    }
   ],
   "source": [
    "x=symbols(\"x\") \n",
    "y=1/(x*x)\n",
    "diff(y,x)"
   ]
  },
  {
   "cell_type": "code",
   "execution_count": 61,
   "metadata": {},
   "outputs": [
    {
     "data": {
      "text/plain": [
       "231*x**6/16 - 315*x**4/16 + 105*x**2/16 - 5/16"
      ]
     },
     "execution_count": 61,
     "metadata": {},
     "output_type": "execute_result"
    }
   ],
   "source": [
    "import numpy.polynomial.legendre\n",
    "legendre(6,x)"
   ]
  },
  {
   "cell_type": "code",
   "execution_count": 29,
   "metadata": {},
   "outputs": [
    {
     "data": {
      "text/plain": [
       "-x**5/120 + 5*x**4/24 - 5*x**3/3 + 5*x**2 - 5*x + 1"
      ]
     },
     "execution_count": 29,
     "metadata": {},
     "output_type": "execute_result"
    }
   ],
   "source": [
    "import numpy.polynomial.laguerre\n",
    "laguerre(5,x)"
   ]
  },
  {
   "cell_type": "code",
   "execution_count": 40,
   "metadata": {},
   "outputs": [
    {
     "data": {
      "text/plain": [
       "64*x**6 - 480*x**4 + 720*x**2 - 120"
      ]
     },
     "execution_count": 40,
     "metadata": {},
     "output_type": "execute_result"
    }
   ],
   "source": [
    "import numpy.polynomial.hermite\n",
    "hermite(6,x)"
   ]
  },
  {
   "cell_type": "code",
   "execution_count": null,
   "metadata": {},
   "outputs": [],
   "source": []
  }
 ],
 "metadata": {
  "kernelspec": {
   "display_name": "Python 3",
   "language": "python",
   "name": "python3"
  },
  "language_info": {
   "codemirror_mode": {
    "name": "ipython",
    "version": 3
   },
   "file_extension": ".py",
   "mimetype": "text/x-python",
   "name": "python",
   "nbconvert_exporter": "python",
   "pygments_lexer": "ipython3",
   "version": "3.7.1"
  }
 },
 "nbformat": 4,
 "nbformat_minor": 2
}
