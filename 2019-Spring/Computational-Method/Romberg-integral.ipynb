{
 "cells": [
  {
   "cell_type": "code",
   "execution_count": 55,
   "metadata": {},
   "outputs": [
    {
     "name": "stdout",
     "output_type": "stream",
     "text": [
      "[1.0, 0.5, 0.25, 0.125, 0.0625]\n",
      "T序列：[1.3591409, 0.8856606, 0.76059633, 0.7288902, 0.72093576]\n",
      "S序列：[0.727834, 0.718908, 0.718321, 0.718284]\n",
      "C序列：[0.718313, 0.718282, 0.718282]\n",
      "R序列：[0.718282, 0.718282]\n",
      "end\n"
     ]
    }
   ],
   "source": [
    "import numpy as np\n",
    "import math\n",
    "\n",
    "def func(x):\n",
    "    return x*x*exp(x)\n",
    "\n",
    "class Romberg:\n",
    "    def __init__(self, integ_dowlimit, integ_uplimit):\n",
    "        \n",
    "        self.integ_uplimit = integ_uplimit\n",
    "        self.integ_dowlimit = integ_dowlimit\n",
    "\n",
    "\n",
    "\n",
    "    def calc(self):\n",
    "        \n",
    "        t_seq1 = np.zeros(5, 'f')\n",
    "        s_seq2 = np.zeros(4, 'f')\n",
    "        c_seq3 = np.zeros(3, 'f')\n",
    "        r_seq4 = np.zeros(2, 'f')\n",
    "        # 循环生成hm间距序列\n",
    "        hm = [(self.integ_uplimit - self.integ_dowlimit) / (2 ** i) for i in range(0,5)]\n",
    "        print(hm)\n",
    "        # 循环生成t_seq1\n",
    "        fa = func(self.integ_dowlimit)\n",
    "        fb = func(self.integ_uplimit)\n",
    "\n",
    "        t0 = (1 / 2) * (self.integ_uplimit - self.integ_dowlimit) * (fa+fb)\n",
    "        t_seq1[0] = t0\n",
    "\n",
    "        for i in range(1, 5):\n",
    "            sum = 0\n",
    "            # 多出来的点的累加和\n",
    "            for each in range(1, 2**i,2):\n",
    "                sum =sum + hm[i]*func( self.integ_dowlimit+each * hm[i])#计算两项值\n",
    "            temp1 = 1 / 2 * t_seq1[i - 1]\n",
    "            temp2 =sum\n",
    "            temp =  temp1 + temp2\n",
    "            # 求t_seql的1-4位\n",
    "            t_seq1[i] = temp\n",
    "        print('T序列：'+ str(list(t_seq1)))\n",
    "        # 循环生成s_seq2\n",
    "        s_seq2 = [round((4 * t_seq1[i + 1] - t_seq1[i]) / 3,6) for i in range(0, 4)]\n",
    "        print('S序列：' + str(list(s_seq2)))\n",
    "        # 循环生成c_seq3\n",
    "        c_seq3 = [round((4 ** 2 * s_seq2[i + 1] - s_seq2[i]) / (4 ** 2 - 1),6) for i in range(0, 3)]\n",
    "        print('C序列：' + str(list(c_seq3)))\n",
    "        # 循环生成r_seq4\n",
    "        r_seq4 = [round((4 ** 3 * c_seq3[i + 1] - c_seq3[i]) / (4 ** 3 - 1),6) for i in range(0, 2)]\n",
    "        print('R序列：' + str(list(r_seq4)))\n",
    "        return 'end'\n",
    "\n",
    "\n",
    "rom = Romberg(0, 1)\n",
    "print(rom.calc())\n"
   ]
  },
  {
   "cell_type": "code",
   "execution_count": null,
   "metadata": {},
   "outputs": [],
   "source": []
  }
 ],
 "metadata": {
  "kernelspec": {
   "display_name": "Python 3",
   "language": "python",
   "name": "python3"
  },
  "language_info": {
   "codemirror_mode": {
    "name": "ipython",
    "version": 3
   },
   "file_extension": ".py",
   "mimetype": "text/x-python",
   "name": "python",
   "nbconvert_exporter": "python",
   "pygments_lexer": "ipython3",
   "version": "3.7.1"
  }
 },
 "nbformat": 4,
 "nbformat_minor": 2
}
