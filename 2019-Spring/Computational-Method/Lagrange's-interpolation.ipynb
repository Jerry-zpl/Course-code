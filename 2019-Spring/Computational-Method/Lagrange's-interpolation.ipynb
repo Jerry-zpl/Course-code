{
 "cells": [
  {
   "cell_type": "code",
   "execution_count": null,
   "metadata": {},
   "outputs": [],
   "source": [
    "from scipy.interpolate import lagrange\n",
    "def f(x):\n",
    "    return 1/(1+x*x)\n",
    "x=[-1,-0.8,-0.6,-0.4,-0.2,0,0.2,0.4,0.6,0.8,1]\n",
    "y=[0.047058823529411764,0.058823529411764705,0.07547169811320754,0.1,0.13793103448275862,0.2,0.3076923076923077,0.5,0.8,1.0,0.8,0.5,0.3076923076923077,0.2,0.13793103448275862,0.1,0.07547169811320754,0.058823529411764705,0.047058823529411764]\n",
    "a=lagrange(x,y)\n",
    "print(a)\n",
    "a(0.75)"
   ]
  },
  {
   "cell_type": "code",
   "execution_count": 16,
   "metadata": {},
   "outputs": [],
   "source": [
    "from sympy import *\n",
    "import math\n",
    "from decimal import *"
   ]
  },
  {
   "cell_type": "code",
   "execution_count": 2,
   "metadata": {},
   "outputs": [
    {
     "ename": "SyntaxError",
     "evalue": "invalid syntax (<ipython-input-2-c444a5386590>, line 13)",
     "output_type": "error",
     "traceback": [
      "\u001b[1;36m  File \u001b[1;32m\"<ipython-input-2-c444a5386590>\"\u001b[1;36m, line \u001b[1;32m13\u001b[0m\n\u001b[1;33m    print(h(x,y,0.75))\u001b[0m\n\u001b[1;37m        ^\u001b[0m\n\u001b[1;31mSyntaxError\u001b[0m\u001b[1;31m:\u001b[0m invalid syntax\n"
     ]
    }
   ],
   "source": [
    "def h(x,y,a):\n",
    "    ans=0.0\n",
    "    for i in range(len(y)):\n",
    "        t=y[i]\n",
    "        for j in range(len(y)):\n",
    "            if i !=j:\n",
    "                t*=(a-x[j])/(x[i]-x[j])\n",
    "        ans +=t\n",
    "    return ans\n",
    "\n",
    "x=[-5.0,-4.5,-4,-3.5,3.0,-2.5,-2,-1.5,-1,-0.5,0,0.5,1,1.5,2,2.5,3,3.5,4,4.5,5]\n",
    "y=[0.038461538461538464,0.047058823529411764,0.058823529411764705,0.07547169811320754,0.1,0.13793103448275862,0.2,0.3076923076923077,0.5,0.8,1.0,0.8,0.5,0.3076923076923077,0.2,0.13793103448275862,0.1,0.07547169811320754,0.058823529411764705,0.047058823529411764,0.038461538461538464\n",
    "print(h(x,y,0.75))"
   ]
  },
  {
   "cell_type": "code",
   "execution_count": 25,
   "metadata": {},
   "outputs": [
    {
     "data": {
      "text/plain": [
       "0.9975062344139651"
      ]
     },
     "execution_count": 25,
     "metadata": {},
     "output_type": "execute_result"
    }
   ],
   "source": [
    "def f(x):\n",
    "    return 1/(1+x*x)\n",
    "x=-0.05\n",
    "f(x)"
   ]
  },
  {
   "cell_type": "code",
   "execution_count": 29,
   "metadata": {},
   "outputs": [
    {
     "data": {
      "text/plain": [
       "115.584284527188"
      ]
     },
     "execution_count": 29,
     "metadata": {},
     "output_type": "execute_result"
    }
   ],
   "source": [
    "from sympy import *\n",
    "import math\n",
    "from decimal import *\n",
    "def f(x):\n",
    "    return exp(x)\n",
    "x=4.75\n",
    "f(x)"
   ]
  },
  {
   "cell_type": "code",
   "execution_count": 51,
   "metadata": {},
   "outputs": [
    {
     "name": "stdout",
     "output_type": "stream",
     "text": [
      "-0.281733\n"
     ]
    }
   ],
   "source": [
    "from sympy import *\n",
    "import math\n",
    "from decimal import *\n",
    "def f(k):\n",
    "    return cos(((2*k+1)*pi)/(2*(10+1)))\n",
    "print('%f'%f(6))"
   ]
  },
  {
   "cell_type": "code",
   "execution_count": 66,
   "metadata": {},
   "outputs": [
    {
     "name": "stdout",
     "output_type": "stream",
     "text": [
      "           10             9            8             7            6\n",
      "2.814e-07 x  + 2.825e-06 x + 2.48e-05 x + 0.0001983 x + 0.001389 x\n",
      "             5           4          3       2\n",
      " + 0.008333 x + 0.04167 x + 0.1667 x + 0.5 x + 1 x + 1\n"
     ]
    },
    {
     "data": {
      "text/plain": [
       "2.58570965934257"
      ]
     },
     "execution_count": 66,
     "metadata": {},
     "output_type": "execute_result"
    }
   ],
   "source": [
    "from sympy import *\n",
    "import math\n",
    "from decimal import *\n",
    "from scipy.interpolate import lagrange\n",
    "def f(x):\n",
    "    return exp(x)\n",
    "x=[0.989821,0.909632,0.755750,0.540641,0.281733,0,-0.281733,-0.540641,-0.755750,-0.909632,-0.989821]\n",
    "y=[f(0.989821),f(0.909632),f(0.755750),f(0.540641),f(0.281733),f(0),f(-0.281733),f(-0.540641),f(-0.755750),f(-0.909632),f(-0.989821)]\n",
    "a=lagrange(x,y)\n",
    "print(a)\n",
    "a(0.95)"
   ]
  },
  {
   "cell_type": "code",
   "execution_count": 63,
   "metadata": {},
   "outputs": [
    {
     "name": "stdout",
     "output_type": "stream",
     "text": [
      "          5           4          3          2\n",
      "0.008636 x + 0.04379 x + 0.1666 x + 0.4992 x + 1 x + 1\n"
     ]
    },
    {
     "data": {
      "text/plain": [
       "2.58572653329289"
      ]
     },
     "execution_count": 63,
     "metadata": {},
     "output_type": "execute_result"
    }
   ],
   "source": [
    "from sympy import *\n",
    "import math\n",
    "from decimal import *\n",
    "from scipy.interpolate import lagrange\n",
    "def f(x):\n",
    "    return exp(x)\n",
    "x=[0.965926,0.707107,0.258819,-0.258819,-0.707107,-0.965926]\n",
    "y=[f(0.965926),f(0.707107),f(0.258819),f(-0.258819),f(-0.707107),f(-0.965926)]\n",
    "a=lagrange(x,y)\n",
    "print(a)\n",
    "a(0.95)"
   ]
  },
  {
   "cell_type": "code",
   "execution_count": 33,
   "metadata": {},
   "outputs": [
    {
     "name": "stdout",
     "output_type": "stream",
     "text": [
      "           10             9            8             7            6\n",
      "2.802e-07 x  + 2.811e-06 x + 2.48e-05 x + 0.0001984 x + 0.001389 x\n",
      "             5           4          3       2\n",
      " + 0.008333 x + 0.04167 x + 0.1667 x + 0.5 x + 1 x + 1\n",
      "1.051271\n"
     ]
    }
   ],
   "source": [
    "import math\n",
    "from scipy.interpolate import lagrange\n",
    "def f(x):\n",
    "    return exp(x)\n",
    "x=[-1,-0.8,-0.6,-0.4,-0.2,0,0.2,0.4,0.6,0.8,1]\n",
    "y=[f(-1),f(-0.8),f(-0.6),f(-0.4),f(-0.2),f(0),f(0.2),f(0.4),f(0.6),f(0.8),f(1)]\n",
    "a=lagrange(x,y)\n",
    "print(a)\n",
    "print('%f'%a(0.05))"
   ]
  },
  {
   "cell_type": "code",
   "execution_count": 4,
   "metadata": {},
   "outputs": [
    {
     "data": {
      "text/plain": [
       "0.5352014509567211"
      ]
     },
     "execution_count": 4,
     "metadata": {},
     "output_type": "execute_result"
    }
   ],
   "source": [
    "def f(x):\n",
    "    return -2.262e-05*x**10  - 3.611e-20*x**9 + 0.001267*x**8 + 7.619e-18*x**7 - 0.02441*x**6+1.046e-16*x**5 + 0.1974*x**4 - 1.3e-16*x**3 - 0.6742*x**2 - 1.546e-16*x + 1\n",
    "x=0.95\n",
    "f(x)"
   ]
  },
  {
   "cell_type": "code",
   "execution_count": 29,
   "metadata": {},
   "outputs": [
    {
     "data": {
      "text/plain": [
       "2.58570965931585"
      ]
     },
     "execution_count": 29,
     "metadata": {},
     "output_type": "execute_result"
    }
   ],
   "source": [
    "f(0.95)"
   ]
  },
  {
   "cell_type": "code",
   "execution_count": 10,
   "metadata": {},
   "outputs": [
    {
     "name": "stdout",
     "output_type": "stream",
     "text": [
      "         10             9          8             7          6\n",
      "-0.1858 x  + 1.393e-12 x + 0.5946 x + 2.734e-12 x - 0.8988 x\n",
      "              5          4             3          2\n",
      " + 9.216e-13 x + 0.9897 x + 1.027e-13 x - 0.9997 x + 3.305e-16 x + 1\n"
     ]
    },
    {
     "data": {
      "text/plain": [
       "0.526407983103465"
      ]
     },
     "execution_count": 10,
     "metadata": {},
     "output_type": "execute_result"
    }
   ],
   "source": [
    "from scipy.interpolate import lagrange\n",
    "def f(x):\n",
    "    return 1/(1+x*x)\n",
    "x=[-1,-0.8,-0.6,-0.4,-0.2,0,0.2,0.4,0.6,0.8,1]\n",
    "y=[f(-1),f(-0.8),f(-0.6),f(-0.4),f(-0.2),f(0),f(0.2),f(0.4),f(0.6),f(0.8),f(1)]\n",
    "a=lagrange(x,y)\n",
    "print(a)\n",
    "a(0.95)"
   ]
  },
  {
   "cell_type": "code",
   "execution_count": 14,
   "metadata": {},
   "outputs": [
    {
     "name": "stdout",
     "output_type": "stream",
     "text": [
      "           5          4             3          2\n",
      "6.661e-16 x + 0.3535 x - 7.244e-15 x - 0.8484 x + 2.724e-16 x + 0.9949\n"
     ]
    },
    {
     "data": {
      "text/plain": [
       "0.9927906709558821"
      ]
     },
     "execution_count": 14,
     "metadata": {},
     "output_type": "execute_result"
    }
   ],
   "source": [
    "from scipy.interpolate import lagrange\n",
    "def f(x):\n",
    "    return 1/(1+x*x)\n",
    "x=[0.965926,-0.6,-0.2,0.2,0.6,1]\n",
    "y=[f(-1),f(-0.6),f(-0.2),f(0.2),f(0.6),f(1)]\n",
    "a=lagrange(x,y)\n",
    "print(a)\n",
    "a(0.05)"
   ]
  },
  {
   "cell_type": "code",
   "execution_count": 23,
   "metadata": {},
   "outputs": [
    {
     "name": "stdout",
     "output_type": "stream",
     "text": [
      "           10             9             8             7           6\n",
      "4.166e-07 x  + 4.507e-06 x + 2.202e-05 x + 0.0001636 x + 0.00141 x\n",
      "             5           4          3       2\n",
      " + 0.008601 x + 0.04161 x + 0.1659 x + 0.5 x + 1.001 x + 1\n",
      "115.607360\n"
     ]
    }
   ],
   "source": [
    "from sympy import *\n",
    "import math\n",
    "from decimal import *\n",
    "from scipy.interpolate import lagrange\n",
    "def f(x):\n",
    "    return exp(x)\n",
    "x=[-5,-4,-3,-2,-1,0,1,2,3,4,5]\n",
    "y=[f(-5),f(-4),f(-3),f(-2),f(-1),f(0),f(1),f(2),f(3),f(4),f(5)]\n",
    "a=lagrange(x,y)\n",
    "print(a)\n",
    "print('%f'%a(4.75))"
   ]
  },
  {
   "cell_type": "code",
   "execution_count": 84,
   "metadata": {},
   "outputs": [
    {
     "name": "stdout",
     "output_type": "stream",
     "text": [
      "            2\n",
      "-4.561e-05 x + 0.05369 x + 5.23\n"
     ]
    },
    {
     "data": {
      "text/plain": [
       "13.6006203247583"
      ]
     },
     "execution_count": 84,
     "metadata": {},
     "output_type": "execute_result"
    }
   ],
   "source": [
    "from sympy import *\n",
    "import math\n",
    "from decimal import *\n",
    "from scipy.interpolate import lagrange\n",
    "def f(x):\n",
    "    return sqrt(x)\n",
    "x=[169,196,225]\n",
    "y=[f(169),f(196),f(225)]\n",
    "a=lagrange(x,y)\n",
    "print(a)\n",
    "a(185)"
   ]
  },
  {
   "cell_type": "code",
   "execution_count": 89,
   "metadata": {
    "scrolled": true
   },
   "outputs": [
    {
     "name": "stdout",
     "output_type": "stream",
     "text": [
      "13.601471\n"
     ]
    }
   ],
   "source": [
    "print('%f'%sqrt(185))"
   ]
  },
  {
   "cell_type": "code",
   "execution_count": null,
   "metadata": {},
   "outputs": [],
   "source": []
  }
 ],
 "metadata": {
  "kernelspec": {
   "display_name": "Python 3",
   "language": "python",
   "name": "python3"
  },
  "language_info": {
   "codemirror_mode": {
    "name": "ipython",
    "version": 3
   },
   "file_extension": ".py",
   "mimetype": "text/x-python",
   "name": "python",
   "nbconvert_exporter": "python",
   "pygments_lexer": "ipython3",
   "version": "3.7.1"
  }
 },
 "nbformat": 4,
 "nbformat_minor": 2
}
